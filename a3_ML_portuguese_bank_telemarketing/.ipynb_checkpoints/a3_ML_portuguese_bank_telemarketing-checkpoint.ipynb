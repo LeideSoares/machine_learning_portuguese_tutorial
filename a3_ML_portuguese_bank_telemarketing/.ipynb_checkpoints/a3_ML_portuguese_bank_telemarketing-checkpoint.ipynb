{
 "cells": [
  {
   "cell_type": "markdown",
   "metadata": {},
   "source": [
    "# Telemarketing Banco Portugues"
   ]
  },
  {
   "cell_type": "markdown",
   "metadata": {},
   "source": [
    "- [ISCTE Repositorio](https://repositorio.iscte-iul.pt/bitstream/10071/9499/5/dss_v3.pdf)\n",
    "- [SDUM Repo](http://repositorium.sdum.uminho.pt/bitstream/1822/30994/1/dss-v3.pdf)\n",
    "- [Data Set](https://archive.ics.uci.edu/ml/datasets/Bank+Marketing)"
   ]
  },
  {
   "cell_type": "code",
   "execution_count": null,
   "metadata": {},
   "outputs": [],
   "source": []
  }
 ],
 "metadata": {
  "kernelspec": {
   "display_name": "Python 3",
   "language": "python",
   "name": "python3"
  },
  "language_info": {
   "codemirror_mode": {
    "name": "ipython",
    "version": 3
   },
   "file_extension": ".py",
   "mimetype": "text/x-python",
   "name": "python",
   "nbconvert_exporter": "python",
   "pygments_lexer": "ipython3",
   "version": "3.7.1"
  }
 },
 "nbformat": 4,
 "nbformat_minor": 4
}
