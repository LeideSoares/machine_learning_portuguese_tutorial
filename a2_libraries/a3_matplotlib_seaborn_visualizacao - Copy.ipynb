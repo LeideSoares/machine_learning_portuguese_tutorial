{
 "cells": [
  {
   "cell_type": "markdown",
   "metadata": {},
   "source": [
    "# MATPLOTLIB and SEABORN\n",
    "- Link [Matplotlib](https://matplotlib.org/)\n",
    "- Link [Seaborn](https://seaborn.pydata.org/#)\n",
    "\n",
    "Vamos proceder a visualizacao de dados e rapida analise dos mesmos. Para isso, vamos introduzir as bibliotecas `Matplotlib` e `Seaborn` para essas visualizacoes recorrendo a dados presentes na platforma [BAROMETRO MUNDIAL - WORLDOMETERS](https://www.worldometers.info/).\n",
    "\n",
    "\n",
    "\n",
    "|Alias |   Description|\n",
    "|-|-|\n",
    "|B |       business day frequency|\n",
    "|C|        custom business day frequency\n",
    "D|        calendar day frequency\n",
    "W|        weekly frequency\n",
    "M|        month end frequency\n",
    "SM|       semi-month end frequency (15th and end of month)\n",
    "BM|       business month end frequency\n",
    "CBM|      custom business month end frequency\n",
    "MS|       month start frequency\n",
    "SMS|      semi-month start frequency (1st and 15th)\n",
    "BMS|      business month start frequency\n",
    "CBMS|     custom business month start frequency\n",
    "Q|        quarter end frequency\n",
    "BQ|       business quarter end frequency\n",
    "QS|       quarter start frequency\n",
    "BQS|      business quarter start frequency\n",
    "A, Y|     year end frequency\n",
    "BA, BY|   business year end frequency\n",
    "AS, YS|   year start frequency\n",
    "BAS, BYS| business year start frequency\n",
    "BH|       business hour frequency\n",
    "H|        hourly frequency\n",
    "T, min|   minutely frequency\n",
    "S|        secondly frequency\n",
    "L, ms|    milliseconds\n",
    "U, us|    microseconds\n",
    "N|        nanoseconds\n"
   ]
  },
  {
   "cell_type": "markdown",
   "metadata": {},
   "source": [
    "## 1. Importacao das bibliotecas"
   ]
  },
  {
   "cell_type": "markdown",
   "metadata": {},
   "source": [
    "import requests\n",
    "from bs4 import BeautifulSoup\n",
    "import pandas as pd\n",
    "import numpy as np"
   ]
  },
  {
   "cell_type": "code",
   "execution_count": 1,
   "metadata": {},
   "outputs": [],
   "source": [
    "# PARA VISUALIZACAO DE DADOS\n",
    "import seaborn as sns\n",
    "import matplotlib.pyplot as plt\n",
    "\n",
    "import pandas as pd\n",
    "\n",
    "# ficehiro para captura de dados - WORLDO METERS\n",
    "from populacao_barometro_mundial import EvolucaoPopulacionalBM\n",
    "\n",
    "\n",
    "\n",
    "\n",
    "\n",
    "# Nomes de Paises da CPLP (Comunidade de Paises da Lingua Oficial Portuguesa)\n",
    "paises_cplp = [\n",
    "                'Angola', 'Sao Tome & Principe', 'Cabo Verde', 'Mozambique', \n",
    "                'Guinea-Bissau', 'Portugal', 'Brazil'\n",
    "            ]"
   ]
  },
  {
   "cell_type": "markdown",
   "metadata": {},
   "source": [
    "## 2. Leitura de dados para extracao de urls (de paises da CPLP)\n",
    "O dado a seguir  surge foi criado com codigo onde houve uma exposicao atravez de video.\n"
   ]
  },
  {
   "cell_type": "code",
   "execution_count": 2,
   "metadata": {},
   "outputs": [
    {
     "data": {
      "text/html": [
       "<div>\n",
       "<style scoped>\n",
       "    .dataframe tbody tr th:only-of-type {\n",
       "        vertical-align: middle;\n",
       "    }\n",
       "\n",
       "    .dataframe tbody tr th {\n",
       "        vertical-align: top;\n",
       "    }\n",
       "\n",
       "    .dataframe thead th {\n",
       "        text-align: right;\n",
       "    }\n",
       "</style>\n",
       "<table border=\"1\" class=\"dataframe\">\n",
       "  <thead>\n",
       "    <tr style=\"text-align: right;\">\n",
       "      <th></th>\n",
       "      <th>regioes</th>\n",
       "      <th>continentes</th>\n",
       "      <th>url</th>\n",
       "      <th>Population (2020)</th>\n",
       "      <th>Yearly Change</th>\n",
       "      <th>Net Change</th>\n",
       "      <th>Density (P/Km²)</th>\n",
       "      <th>Land Area (Km²)</th>\n",
       "      <th>Migrants (net)</th>\n",
       "      <th>Fert. Rate</th>\n",
       "      <th>Med. Age</th>\n",
       "      <th>Urban Pop %</th>\n",
       "      <th>World Share</th>\n",
       "    </tr>\n",
       "    <tr>\n",
       "      <th>paises</th>\n",
       "      <th></th>\n",
       "      <th></th>\n",
       "      <th></th>\n",
       "      <th></th>\n",
       "      <th></th>\n",
       "      <th></th>\n",
       "      <th></th>\n",
       "      <th></th>\n",
       "      <th></th>\n",
       "      <th></th>\n",
       "      <th></th>\n",
       "      <th></th>\n",
       "      <th></th>\n",
       "    </tr>\n",
       "  </thead>\n",
       "  <tbody>\n",
       "    <tr>\n",
       "      <th>India</th>\n",
       "      <td>Southern Asia</td>\n",
       "      <td>Asia</td>\n",
       "      <td>https://www.worldometers.info/world-population...</td>\n",
       "      <td>1.380004e+09</td>\n",
       "      <td>0.99</td>\n",
       "      <td>13586631.0</td>\n",
       "      <td>464.0</td>\n",
       "      <td>2973190.0</td>\n",
       "      <td>-532687.0</td>\n",
       "      <td>2.2</td>\n",
       "      <td>28.0</td>\n",
       "      <td>35.0</td>\n",
       "      <td>17.70</td>\n",
       "    </tr>\n",
       "    <tr>\n",
       "      <th>Pakistan</th>\n",
       "      <td>Southern Asia</td>\n",
       "      <td>Asia</td>\n",
       "      <td>https://www.worldometers.info/world-population...</td>\n",
       "      <td>2.208923e+08</td>\n",
       "      <td>2.00</td>\n",
       "      <td>4327022.0</td>\n",
       "      <td>287.0</td>\n",
       "      <td>770880.0</td>\n",
       "      <td>-233379.0</td>\n",
       "      <td>3.6</td>\n",
       "      <td>23.0</td>\n",
       "      <td>35.0</td>\n",
       "      <td>2.83</td>\n",
       "    </tr>\n",
       "    <tr>\n",
       "      <th>Bangladesh</th>\n",
       "      <td>Southern Asia</td>\n",
       "      <td>Asia</td>\n",
       "      <td>https://www.worldometers.info/world-population...</td>\n",
       "      <td>1.646894e+08</td>\n",
       "      <td>1.01</td>\n",
       "      <td>1643222.0</td>\n",
       "      <td>1265.0</td>\n",
       "      <td>130170.0</td>\n",
       "      <td>-369501.0</td>\n",
       "      <td>2.1</td>\n",
       "      <td>28.0</td>\n",
       "      <td>39.0</td>\n",
       "      <td>2.11</td>\n",
       "    </tr>\n",
       "    <tr>\n",
       "      <th>Iran</th>\n",
       "      <td>Southern Asia</td>\n",
       "      <td>Asia</td>\n",
       "      <td>https://www.worldometers.info/world-population...</td>\n",
       "      <td>8.399295e+07</td>\n",
       "      <td>1.30</td>\n",
       "      <td>1079043.0</td>\n",
       "      <td>52.0</td>\n",
       "      <td>1628550.0</td>\n",
       "      <td>-55000.0</td>\n",
       "      <td>2.2</td>\n",
       "      <td>32.0</td>\n",
       "      <td>76.0</td>\n",
       "      <td>1.08</td>\n",
       "    </tr>\n",
       "    <tr>\n",
       "      <th>Afghanistan</th>\n",
       "      <td>Southern Asia</td>\n",
       "      <td>Asia</td>\n",
       "      <td>https://www.worldometers.info/world-population...</td>\n",
       "      <td>3.892835e+07</td>\n",
       "      <td>2.33</td>\n",
       "      <td>886592.0</td>\n",
       "      <td>60.0</td>\n",
       "      <td>652860.0</td>\n",
       "      <td>-62920.0</td>\n",
       "      <td>4.6</td>\n",
       "      <td>18.0</td>\n",
       "      <td>25.0</td>\n",
       "      <td>0.50</td>\n",
       "    </tr>\n",
       "  </tbody>\n",
       "</table>\n",
       "</div>"
      ],
      "text/plain": [
       "                   regioes continentes  \\\n",
       "paises                                   \n",
       "India        Southern Asia        Asia   \n",
       "Pakistan     Southern Asia        Asia   \n",
       "Bangladesh   Southern Asia        Asia   \n",
       "Iran         Southern Asia        Asia   \n",
       "Afghanistan  Southern Asia        Asia   \n",
       "\n",
       "                                                           url  \\\n",
       "paises                                                           \n",
       "India        https://www.worldometers.info/world-population...   \n",
       "Pakistan     https://www.worldometers.info/world-population...   \n",
       "Bangladesh   https://www.worldometers.info/world-population...   \n",
       "Iran         https://www.worldometers.info/world-population...   \n",
       "Afghanistan  https://www.worldometers.info/world-population...   \n",
       "\n",
       "             Population (2020)  Yearly Change  Net Change  Density (P/Km²)  \\\n",
       "paises                                                                       \n",
       "India             1.380004e+09           0.99  13586631.0            464.0   \n",
       "Pakistan          2.208923e+08           2.00   4327022.0            287.0   \n",
       "Bangladesh        1.646894e+08           1.01   1643222.0           1265.0   \n",
       "Iran              8.399295e+07           1.30   1079043.0             52.0   \n",
       "Afghanistan       3.892835e+07           2.33    886592.0             60.0   \n",
       "\n",
       "             Land Area (Km²)  Migrants (net)  Fert. Rate  Med. Age  \\\n",
       "paises                                                               \n",
       "India              2973190.0       -532687.0         2.2      28.0   \n",
       "Pakistan            770880.0       -233379.0         3.6      23.0   \n",
       "Bangladesh          130170.0       -369501.0         2.1      28.0   \n",
       "Iran               1628550.0        -55000.0         2.2      32.0   \n",
       "Afghanistan         652860.0        -62920.0         4.6      18.0   \n",
       "\n",
       "             Urban Pop %  World Share  \n",
       "paises                                 \n",
       "India               35.0        17.70  \n",
       "Pakistan            35.0         2.83  \n",
       "Bangladesh          39.0         2.11  \n",
       "Iran                76.0         1.08  \n",
       "Afghanistan         25.0         0.50  "
      ]
     },
     "execution_count": 2,
     "metadata": {},
     "output_type": "execute_result"
    }
   ],
   "source": [
    "# Leitura de ficheiro com dados populacional de todos os paises de mundo e algumas dependencias.\n",
    "paises_df  = pd.read_csv('../a1_webscraping/Population (2020).csv')\n",
    "paises_df.set_index(['paises'], inplace=True)\n",
    "paises_df.head()"
   ]
  },
  {
   "cell_type": "code",
   "execution_count": 10,
   "metadata": {},
   "outputs": [],
   "source": [
    "class EvolucaoPopulacionalBM:\n",
    "    \"\"\"\n",
    "    Classe para captura, limpeza e organizacao de dados existente na WORLDOMETERS relativo a evolucao populacao populacional dos paises de mundo\n",
    "    Metodos:\n",
    "    - parse\n",
    "    - extrair_dados\n",
    "    - converter_p_numeric\n",
    "    - dados_paises\n",
    "    \"\"\"\n",
    "    \n",
    "    def __init__(self, urls):\n",
    "        self.urls = urls\n",
    "        \n",
    "\n",
    "    # Extracao de Dados HTML\n",
    "    def extrair_dados(self, url):\n",
    "        cabecalho = []\n",
    "        \n",
    "        table = BeautifulSoup(requests.get(url).text, 'html.parser').find('div', {'class':'table-responsive'}).find('table')\n",
    "        \n",
    "        for entrada in table.find('tr').find_all('th'):\n",
    "            cabecalho.append(entrada.text)\n",
    "\n",
    "        dados = []\n",
    "        for coluna in table.find('tbody').find_all('tr'):\n",
    "            dados.append([valor.text for valor in coluna.find_all('td')])\n",
    "\n",
    "        pais_df = pd.DataFrame(dados, columns=cabecalho)\n",
    "        pais_df['Pais'] = url.replace('/', ' ').split()[-1]\n",
    "\n",
    "        return pais_df\n",
    "\n",
    "\n",
    "\n",
    "    # LIMPEZA de DADOS\n",
    "    def converter_p_numerico(self, string):\n",
    "        resultado = \"\".join([digito for digito in string if digito.isnumeric() or digito in '.-'])\n",
    "\n",
    "        if resultado.replace('.','').replace('-','').isnumeric():\n",
    "            return float(resultado)\n",
    "        else:\n",
    "            return np.nan\n",
    "\n",
    "\n",
    "\n",
    "\n",
    "    # Uniao das Tabelas \n",
    "    def dados_paises(self):\n",
    "        \"\"\" \n",
    "        urls: introduzida como uma lista (series de urls)\n",
    "        \"\"\"\n",
    "\n",
    "       \n",
    "        \n",
    "        if type(self.urls) == str:\n",
    "            try:\n",
    "                return self.extrair_dados(self.urls)\n",
    "            except:\n",
    "                print('Verifique a url (website link de Worldometers)')\n",
    "            \n",
    "        else:\n",
    "            try:\n",
    "                \n",
    "                df = self.extrair_dados(self.urls[0])\n",
    "                \n",
    "                for url in self.urls[1:]:\n",
    "                    print(f\"{url[:-12].split('/')[-1]} \\t {url}\".expandtabs(20))\n",
    "                    df = pd.concat([df, self.extrair_dados(url)])\n",
    "                \n",
    "                \n",
    "                \n",
    "\n",
    "                return df\n",
    "            \n",
    "            except:\n",
    "                print('Verifique o conjunto de urls (Worldometers)')\n",
    "\n",
    "\n",
    "\n",
    "    \n",
    "    def para_numerico(self, obj):\n",
    "        return int(''.join([car for car in obj if car.isnumeric()]))\n",
    "    \n",
    "    \n",
    "    # Apartir da variavel inicial - cplp_paises (nomes de paises cplp) - criar nova variavel: evop_cplp (evol)    \n",
    "    def evo_populacao(self):\n",
    "        \n",
    "        df = self.dados_paises()\n",
    "        \n",
    "        evo_populacional = pd.DataFrame()\n",
    "        evo_populacional['Year'] = pd.to_datetime(df.Year.unique())\n",
    "        lista_paises = [pais[::-1][11:][::-1]  for pais in df.Pais.unique()]\n",
    "\n",
    "        for nome_pais in lista_paises:\n",
    "\n",
    "\n",
    "\n",
    "            evo_populacional[nome_pais] = df[df.Pais.str.contains(nome_pais.lower().replace(' ', '-').replace('&', 'and'))]['Population']\n",
    "            \n",
    "        evo_populacional = evo_populacional.sort_values(['Year']).set_index(['Year'])\n",
    "        \n",
    "        for col in evo_populacional.columns:\n",
    "            evo_populacional[col] = evo_populacional[col].apply(self.para_numerico)\n",
    "            \n",
    "        return evo_populacional\n"
   ]
  },
  {
   "cell_type": "code",
   "execution_count": null,
   "metadata": {},
   "outputs": [],
   "source": []
  },
  {
   "cell_type": "code",
   "execution_count": 12,
   "metadata": {},
   "outputs": [
    {
     "name": "stdout",
     "output_type": "stream",
     "text": [
      "Verifique o conjunto de urls (Worldometers)\n"
     ]
    }
   ],
   "source": [
    "url_africa = EvolucaoPopulacionalBM(paises_df[paises_df.continentes == 'Africa'].url[:3])\n",
    "url_africa.dados_paises()"
   ]
  },
  {
   "cell_type": "code",
   "execution_count": 5,
   "metadata": {
    "scrolled": false
   },
   "outputs": [],
   "source": [
    "url_africa"
   ]
  },
  {
   "cell_type": "code",
   "execution_count": null,
   "metadata": {},
   "outputs": [],
   "source": []
  },
  {
   "cell_type": "markdown",
   "metadata": {},
   "source": [
    "## 3. Captura de captura para analise/visualizacao"
   ]
  },
  {
   "cell_type": "code",
   "execution_count": null,
   "metadata": {},
   "outputs": [],
   "source": [
    "lista_de_paises = paises_df.loc[paises_cplp]\n",
    "lista_de_paises"
   ]
  },
  {
   "cell_type": "code",
   "execution_count": null,
   "metadata": {},
   "outputs": [],
   "source": [
    "urls_cplp =  lista_de_paises.url"
   ]
  },
  {
   "cell_type": "markdown",
   "metadata": {},
   "source": [
    "### Captura de dados"
   ]
  },
  {
   "cell_type": "code",
   "execution_count": null,
   "metadata": {},
   "outputs": [],
   "source": [
    "b_m = EvolucaoPopulacionalBM(urls_cplp)\n",
    "evop_cplp = b_m.evo_populacao()\n",
    "evop_cplp"
   ]
  },
  {
   "cell_type": "markdown",
   "metadata": {},
   "source": [
    "# 4. Visualizacao\n",
    "### Grafico Linear"
   ]
  },
  {
   "cell_type": "code",
   "execution_count": null,
   "metadata": {},
   "outputs": [],
   "source": [
    "plt.figure(figsize= (15,8))\n",
    "plt.plot(evop_cplp.angola)"
   ]
  },
  {
   "cell_type": "code",
   "execution_count": null,
   "metadata": {},
   "outputs": [],
   "source": [
    "evop_cplp.plot(figsize = (15,8))"
   ]
  },
  {
   "cell_type": "markdown",
   "metadata": {},
   "source": [
    "#### Total de crescimento anual"
   ]
  },
  {
   "cell_type": "code",
   "execution_count": null,
   "metadata": {},
   "outputs": [],
   "source": [
    "evop_dif = evop_cplp.diff(1)"
   ]
  },
  {
   "cell_type": "markdown",
   "metadata": {},
   "source": [
    "### Histograma"
   ]
  },
  {
   "cell_type": "code",
   "execution_count": null,
   "metadata": {},
   "outputs": [],
   "source": [
    "plt.hist(evop_dif['sao-tome-and-principe'], edgecolor = 'black')"
   ]
  },
  {
   "cell_type": "code",
   "execution_count": null,
   "metadata": {},
   "outputs": [],
   "source": []
  },
  {
   "cell_type": "markdown",
   "metadata": {},
   "source": [
    "### Barras"
   ]
  },
  {
   "cell_type": "code",
   "execution_count": null,
   "metadata": {},
   "outputs": [],
   "source": [
    "plt.figure(figsize= (15,8))\n",
    "sns.barplot(x = evop_cplp.index.year, y =  evop_cplp['cabo-verde'], palette = ['green', 'yellow', 'red'])\n",
    "plt.title('CV EVOP [1955 - 2020]')\n"
   ]
  },
  {
   "cell_type": "markdown",
   "metadata": {},
   "source": [
    "### BoxPlot"
   ]
  },
  {
   "cell_type": "code",
   "execution_count": null,
   "metadata": {
    "scrolled": false
   },
   "outputs": [],
   "source": [
    "plt.figure(figsize= (15,8))\n",
    "sns.boxplot(evop_dif.angola)"
   ]
  },
  {
   "cell_type": "markdown",
   "metadata": {},
   "source": [
    "### Violino"
   ]
  },
  {
   "cell_type": "code",
   "execution_count": null,
   "metadata": {},
   "outputs": [],
   "source": [
    "plt.figure(figsize= (15,8))\n",
    "sns.violinplot(evop_dif.angola)"
   ]
  },
  {
   "cell_type": "markdown",
   "metadata": {},
   "source": [
    "### Heatmap\n",
    "#### Correlacao"
   ]
  },
  {
   "cell_type": "code",
   "execution_count": null,
   "metadata": {},
   "outputs": [],
   "source": [
    "evop_corr = evop_cplp.corr()"
   ]
  },
  {
   "cell_type": "code",
   "execution_count": null,
   "metadata": {},
   "outputs": [],
   "source": [
    "plt.figure(figsize= (15,8))\n",
    "sns.heatmap(evop_corr, annot = True, square=True)"
   ]
  },
  {
   "cell_type": "markdown",
   "metadata": {},
   "source": [
    "# 5. Analise\n",
    "### Valores absoluto"
   ]
  },
  {
   "cell_type": "code",
   "execution_count": null,
   "metadata": {},
   "outputs": [],
   "source": [
    "evop_cplp.plot(figsize = (15,8))"
   ]
  },
  {
   "cell_type": "markdown",
   "metadata": {},
   "source": [
    "## Valores relativos"
   ]
  },
  {
   "cell_type": "code",
   "execution_count": null,
   "metadata": {},
   "outputs": [],
   "source": [
    "evop_racio  = evop_cplp.copy()\n",
    "\n",
    "for pais in evop_cplp.columns:\n",
    "    evop_racio[pais] = evop_cplp[pais] / evop_cplp[pais]['1955-01-01']"
   ]
  },
  {
   "cell_type": "code",
   "execution_count": null,
   "metadata": {},
   "outputs": [],
   "source": [
    "evop_racio"
   ]
  },
  {
   "cell_type": "code",
   "execution_count": null,
   "metadata": {},
   "outputs": [],
   "source": [
    "evop_racio.plot(figsize = (15, 8))"
   ]
  },
  {
   "cell_type": "markdown",
   "metadata": {},
   "source": [
    "## Dados normalisado escala [0, 1]"
   ]
  },
  {
   "cell_type": "code",
   "execution_count": null,
   "metadata": {},
   "outputs": [],
   "source": [
    "from sklearn.preprocessing import MinMaxScaler"
   ]
  },
  {
   "cell_type": "code",
   "execution_count": null,
   "metadata": {},
   "outputs": [],
   "source": [
    "escala = MinMaxScaler()\n",
    "\n",
    "evop_escalada = escala.fit_transform(evop_cplp)"
   ]
  },
  {
   "cell_type": "code",
   "execution_count": null,
   "metadata": {},
   "outputs": [],
   "source": [
    "evop_escalada"
   ]
  },
  {
   "cell_type": "code",
   "execution_count": null,
   "metadata": {
    "scrolled": true
   },
   "outputs": [],
   "source": [
    "evop_escalada = pd.DataFrame(evop_escalada, columns = evop_cplp.columns, index = evop_cplp.index)\n",
    "evop_escalada"
   ]
  },
  {
   "cell_type": "code",
   "execution_count": null,
   "metadata": {
    "scrolled": false
   },
   "outputs": [],
   "source": [
    "evop_escalada.plot(figsize = (15, 8))"
   ]
  },
  {
   "cell_type": "code",
   "execution_count": null,
   "metadata": {},
   "outputs": [],
   "source": [
    "evop_cplp['portugal'].plot(figsize = (15, 8))"
   ]
  }
 ],
 "metadata": {
  "kernelspec": {
   "display_name": "Python 3",
   "language": "python",
   "name": "python3"
  },
  "language_info": {
   "codemirror_mode": {
    "name": "ipython",
    "version": 3
   },
   "file_extension": ".py",
   "mimetype": "text/x-python",
   "name": "python",
   "nbconvert_exporter": "python",
   "pygments_lexer": "ipython3",
   "version": "3.7.1"
  }
 },
 "nbformat": 4,
 "nbformat_minor": 4
}
