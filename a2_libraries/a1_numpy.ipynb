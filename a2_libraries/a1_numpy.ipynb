{
 "cells": [
  {
   "cell_type": "markdown",
   "metadata": {},
   "source": [
    "# NumPy\n",
    "\n",
    "- [NumPy GitHub](https://github.com/numpy/numpy)\n",
    "- [NumPy website](https://numpy.org/)\n",
    "\n",
    "NumPy e uma biblioteca fundamental para computação científica com Python.\n",
    "\n",
    "\n",
    "Foi desenvolvida para linguagem de programação Python, permite a realização de operações matriciais, suportando grande e matrizes multidimensionais, além de possuir grande coleção de funções matemáticas de alto nível operando com matrizes.\n",
    "\n",
    "\n",
    "E uma das bibliotecas de raiz existente na distribuicao de Anaconda (distribuicao de Python)."
   ]
  },
  {
   "cell_type": "markdown",
   "metadata": {},
   "source": [
    "### Importacao de NumPy"
   ]
  },
  {
   "cell_type": "code",
   "execution_count": 1,
   "metadata": {},
   "outputs": [],
   "source": [
    "import numpy as np"
   ]
  },
  {
   "cell_type": "markdown",
   "metadata": {},
   "source": [
    "##### Lista de dados"
   ]
  },
  {
   "cell_type": "code",
   "execution_count": 2,
   "metadata": {},
   "outputs": [
    {
     "name": "stdout",
     "output_type": "stream",
     "text": [
      "1\n",
      "2\n",
      "3\n",
      "4\n",
      "5\n",
      "6\n",
      "7\n",
      "8\n",
      "9\n",
      "10\n",
      "11\n",
      "12\n",
      "13\n",
      "14\n"
     ]
    }
   ],
   "source": [
    "for num in range(1, 15):\n",
    "    print(num)"
   ]
  },
  {
   "cell_type": "code",
   "execution_count": 3,
   "metadata": {},
   "outputs": [],
   "source": [
    "lista = list(range(1,15))"
   ]
  },
  {
   "cell_type": "code",
   "execution_count": 4,
   "metadata": {},
   "outputs": [
    {
     "data": {
      "text/plain": [
       "[1, 2, 3, 4, 5, 6, 7, 8, 9, 10, 11, 12, 13, 14]"
      ]
     },
     "execution_count": 4,
     "metadata": {},
     "output_type": "execute_result"
    }
   ],
   "source": [
    "lista"
   ]
  },
  {
   "cell_type": "code",
   "execution_count": 6,
   "metadata": {},
   "outputs": [
    {
     "data": {
      "text/plain": [
       "[3, 8, 13]"
      ]
     },
     "execution_count": 6,
     "metadata": {},
     "output_type": "execute_result"
    }
   ],
   "source": [
    "# minha lista: m_lista\n",
    "m_lista = [num for num in range(1, 15) if num % 5 == 3]\n",
    "m_lista"
   ]
  },
  {
   "cell_type": "code",
   "execution_count": 7,
   "metadata": {},
   "outputs": [
    {
     "data": {
      "text/plain": [
       "[[1, 2, 3], [4, 5, 6], [7, 8, 9], ['a', 'b', 'c', ['mm', 'bb']]]"
      ]
     },
     "execution_count": 7,
     "metadata": {},
     "output_type": "execute_result"
    }
   ],
   "source": [
    "# outra_lista \n",
    "o_lista = [[1,2,3], [4,5,6], [7,8,9], ['a', 'b', 'c', ['mm', 'bb']]]\n",
    "o_lista"
   ]
  },
  {
   "cell_type": "code",
   "execution_count": 13,
   "metadata": {
    "scrolled": true
   },
   "outputs": [
    {
     "data": {
      "text/plain": [
       "'bb'"
      ]
     },
     "execution_count": 13,
     "metadata": {},
     "output_type": "execute_result"
    }
   ],
   "source": [
    "o_lista[3][3][1]"
   ]
  },
  {
   "cell_type": "markdown",
   "metadata": {},
   "source": [
    "#### Matrizes"
   ]
  },
  {
   "cell_type": "code",
   "execution_count": 14,
   "metadata": {},
   "outputs": [
    {
     "data": {
      "text/plain": [
       "array([list([1, 2, 3]), list([4, 5, 6]), list([7, 8, 9]),\n",
       "       list(['a', 'b', 'c', ['mm', 'bb']])], dtype=object)"
      ]
     },
     "execution_count": 14,
     "metadata": {},
     "output_type": "execute_result"
    }
   ],
   "source": [
    "# matriz\n",
    "np.array(o_lista)"
   ]
  },
  {
   "cell_type": "code",
   "execution_count": 15,
   "metadata": {},
   "outputs": [
    {
     "data": {
      "text/plain": [
       "array([ 5,  6,  7,  8,  9, 10, 11, 12, 13, 14, 15, 16, 17, 18, 19])"
      ]
     },
     "execution_count": 15,
     "metadata": {},
     "output_type": "execute_result"
    }
   ],
   "source": [
    "# vector\n",
    "np.arange(5, 20)"
   ]
  },
  {
   "cell_type": "code",
   "execution_count": 16,
   "metadata": {},
   "outputs": [
    {
     "data": {
      "text/plain": [
       "array([ 5,  6,  7,  8,  9, 10, 11, 12, 13, 14, 15, 16, 17, 18, 19])"
      ]
     },
     "execution_count": 16,
     "metadata": {},
     "output_type": "execute_result"
    }
   ],
   "source": [
    "vec = np.arange(5, 20)\n",
    "vec"
   ]
  },
  {
   "cell_type": "code",
   "execution_count": 17,
   "metadata": {},
   "outputs": [
    {
     "data": {
      "text/plain": [
       "array([ 9, 10, 14])"
      ]
     },
     "execution_count": 17,
     "metadata": {},
     "output_type": "execute_result"
    }
   ],
   "source": [
    "vec[[4,5,9]]"
   ]
  },
  {
   "cell_type": "code",
   "execution_count": 18,
   "metadata": {
    "scrolled": true
   },
   "outputs": [
    {
     "data": {
      "text/plain": [
       "(15,)"
      ]
     },
     "execution_count": 18,
     "metadata": {},
     "output_type": "execute_result"
    }
   ],
   "source": [
    "vec.shape"
   ]
  },
  {
   "cell_type": "code",
   "execution_count": 19,
   "metadata": {},
   "outputs": [
    {
     "data": {
      "text/plain": [
       "array([  1.        ,  42.58333333,  84.16666667, 125.75      ,\n",
       "       167.33333333, 208.91666667, 250.5       , 292.08333333,\n",
       "       333.66666667, 375.25      , 416.83333333, 458.41666667,\n",
       "       500.        ])"
      ]
     },
     "execution_count": 19,
     "metadata": {},
     "output_type": "execute_result"
    }
   ],
   "source": [
    "# np.linspace(inicio, fim, quantia_divisao)\n",
    "np.linspace(1, 500, 13)"
   ]
  },
  {
   "cell_type": "markdown",
   "metadata": {},
   "source": [
    "#### seccionar"
   ]
  },
  {
   "cell_type": "code",
   "execution_count": 20,
   "metadata": {},
   "outputs": [
    {
     "data": {
      "text/plain": [
       "array([ 1,  2,  3,  4,  5,  6,  7,  8,  9, 10, 11, 12, 13, 14, 15, 16, 17,\n",
       "       18, 19, 20, 21, 22, 23, 24, 25, 26, 27, 28, 29, 30, 31, 32, 33, 34,\n",
       "       35, 36, 37, 38, 39, 40, 41, 42, 43, 44, 45, 46, 47, 48, 49])"
      ]
     },
     "execution_count": 20,
     "metadata": {},
     "output_type": "execute_result"
    }
   ],
   "source": [
    "matriz = np.arange(1, 50)\n",
    "matriz"
   ]
  },
  {
   "cell_type": "code",
   "execution_count": 21,
   "metadata": {},
   "outputs": [
    {
     "data": {
      "text/plain": [
       "array([ 1,  2,  3,  4,  5,  6,  7,  8,  9, 10, 11, 12, 13, 14, 15, 16, 17,\n",
       "       18, 19, 20])"
      ]
     },
     "execution_count": 21,
     "metadata": {},
     "output_type": "execute_result"
    }
   ],
   "source": [
    "# do inicio ate 20\n",
    "parte_matriz = matriz[:20]\n",
    "parte_matriz"
   ]
  },
  {
   "cell_type": "code",
   "execution_count": 22,
   "metadata": {},
   "outputs": [
    {
     "data": {
      "text/plain": [
       "array([21, 22, 23, 24, 25, 26, 27, 28, 29, 30])"
      ]
     },
     "execution_count": 22,
     "metadata": {},
     "output_type": "execute_result"
    }
   ],
   "source": [
    "# de 20 ate 30\n",
    "matriz[20:30]"
   ]
  },
  {
   "cell_type": "code",
   "execution_count": 23,
   "metadata": {},
   "outputs": [
    {
     "data": {
      "text/plain": [
       "array([21, 22, 23, 24, 25, 26, 27, 28, 29, 30, 31, 32, 33, 34, 35, 36, 37,\n",
       "       38, 39, 40, 41, 42, 43, 44, 45, 46, 47, 48, 49])"
      ]
     },
     "execution_count": 23,
     "metadata": {},
     "output_type": "execute_result"
    }
   ],
   "source": [
    "matriz[20:]"
   ]
  },
  {
   "cell_type": "code",
   "execution_count": 24,
   "metadata": {},
   "outputs": [
    {
     "data": {
      "text/plain": [
       "49"
      ]
     },
     "execution_count": 24,
     "metadata": {},
     "output_type": "execute_result"
    }
   ],
   "source": [
    "matriz[-1]"
   ]
  },
  {
   "cell_type": "code",
   "execution_count": null,
   "metadata": {},
   "outputs": [],
   "source": [
    "matriz[-49]"
   ]
  },
  {
   "cell_type": "code",
   "execution_count": 25,
   "metadata": {},
   "outputs": [
    {
     "data": {
      "text/plain": [
       "array([43, 44, 45, 46, 47, 48, 49])"
      ]
     },
     "execution_count": 25,
     "metadata": {},
     "output_type": "execute_result"
    }
   ],
   "source": [
    "# os ultimos 5\n",
    "matriz[-7:]"
   ]
  },
  {
   "cell_type": "markdown",
   "metadata": {},
   "source": [
    "##### substituir"
   ]
  },
  {
   "cell_type": "code",
   "execution_count": 26,
   "metadata": {},
   "outputs": [],
   "source": [
    "parte_matriz[:] = 5500"
   ]
  },
  {
   "cell_type": "code",
   "execution_count": 27,
   "metadata": {},
   "outputs": [
    {
     "data": {
      "text/plain": [
       "array([5500, 5500, 5500, 5500, 5500, 5500, 5500, 5500, 5500, 5500, 5500,\n",
       "       5500, 5500, 5500, 5500, 5500, 5500, 5500, 5500, 5500,   21,   22,\n",
       "         23,   24,   25,   26,   27,   28,   29,   30,   31,   32,   33,\n",
       "         34,   35,   36,   37,   38,   39,   40,   41,   42,   43,   44,\n",
       "         45,   46,   47,   48,   49])"
      ]
     },
     "execution_count": 27,
     "metadata": {},
     "output_type": "execute_result"
    }
   ],
   "source": [
    "matriz"
   ]
  },
  {
   "cell_type": "code",
   "execution_count": 28,
   "metadata": {
    "scrolled": true
   },
   "outputs": [
    {
     "data": {
      "text/plain": [
       "array([[5500, 5500, 5500, 5500, 5500, 5500, 5500],\n",
       "       [5500, 5500, 5500, 5500, 5500, 5500, 5500],\n",
       "       [5500, 5500, 5500, 5500, 5500, 5500,   21],\n",
       "       [  22,   23,   24,   25,   26,   27,   28],\n",
       "       [  29,   30,   31,   32,   33,   34,   35],\n",
       "       [  36,   37,   38,   39,   40,   41,   42],\n",
       "       [  43,   44,   45,   46,   47,   48,   49]])"
      ]
     },
     "execution_count": 28,
     "metadata": {},
     "output_type": "execute_result"
    }
   ],
   "source": [
    "matriz.reshape((7,7))"
   ]
  },
  {
   "cell_type": "code",
   "execution_count": 29,
   "metadata": {},
   "outputs": [
    {
     "data": {
      "text/plain": [
       "array([ True,  True,  True,  True,  True,  True,  True,  True,  True,\n",
       "        True,  True,  True,  True,  True,  True,  True,  True,  True,\n",
       "        True,  True, False, False, False, False, False, False, False,\n",
       "       False, False, False, False, False, False, False, False, False,\n",
       "       False, False, False, False,  True,  True,  True,  True,  True,\n",
       "        True,  True,  True,  True])"
      ]
     },
     "execution_count": 29,
     "metadata": {},
     "output_type": "execute_result"
    }
   ],
   "source": [
    "matriz > 40"
   ]
  },
  {
   "cell_type": "markdown",
   "metadata": {},
   "source": [
    "## Aleatorio (random)\n",
    "#### Semente (seed) para guarantir a repeticao nas mesma condicao"
   ]
  },
  {
   "cell_type": "code",
   "execution_count": 39,
   "metadata": {},
   "outputs": [
    {
     "data": {
      "text/plain": [
       "array([0.98627683, 0.87339195, 0.50974552, 0.27183571])"
      ]
     },
     "execution_count": 39,
     "metadata": {},
     "output_type": "execute_result"
    }
   ],
   "source": [
    "np.random.seed(2020)\n",
    "np.random.rand(4)"
   ]
  },
  {
   "cell_type": "code",
   "execution_count": 47,
   "metadata": {},
   "outputs": [
    {
     "data": {
      "text/plain": [
       "array([0.37339376, 0.37969293, 0.85831659, 0.64606105])"
      ]
     },
     "execution_count": 47,
     "metadata": {},
     "output_type": "execute_result"
    }
   ],
   "source": [
    "np.random.rand(4)"
   ]
  },
  {
   "cell_type": "markdown",
   "metadata": {},
   "source": [
    "__Inteiro__"
   ]
  },
  {
   "cell_type": "code",
   "execution_count": 52,
   "metadata": {},
   "outputs": [
    {
     "data": {
      "text/plain": [
       "294"
      ]
     },
     "execution_count": 52,
     "metadata": {},
     "output_type": "execute_result"
    }
   ],
   "source": [
    "# numeros inteiros aleatorios\n",
    "np.random.randint(1000)"
   ]
  },
  {
   "cell_type": "code",
   "execution_count": 54,
   "metadata": {},
   "outputs": [
    {
     "data": {
      "text/plain": [
       "array([16, 31, 21, 23, 27])"
      ]
     },
     "execution_count": 54,
     "metadata": {},
     "output_type": "execute_result"
    }
   ],
   "source": [
    "# lista de numero  aleaotrio  inteiro\n",
    "np.random.randint(1, 45, 5)"
   ]
  },
  {
   "cell_type": "code",
   "execution_count": 55,
   "metadata": {
    "scrolled": true
   },
   "outputs": [
    {
     "data": {
      "text/plain": [
       "array([6, 8])"
      ]
     },
     "execution_count": 55,
     "metadata": {},
     "output_type": "execute_result"
    }
   ],
   "source": [
    "np.random.randint(0,10, 2)"
   ]
  },
  {
   "cell_type": "markdown",
   "metadata": {},
   "source": [
    "__Decimal__"
   ]
  },
  {
   "cell_type": "code",
   "execution_count": 56,
   "metadata": {},
   "outputs": [
    {
     "data": {
      "text/plain": [
       "array([0.790756  , 0.62642031, 0.84408418, 0.90133065, 0.80555116,\n",
       "       0.53083765, 0.93513166])"
      ]
     },
     "execution_count": 56,
     "metadata": {},
     "output_type": "execute_result"
    }
   ],
   "source": [
    "# numero aleatorio no intervalo [0,1]\n",
    "# np.random.rand(quantidade_de_numero_decimal_que_precisa)\n",
    "np.random.rand(7)"
   ]
  },
  {
   "cell_type": "markdown",
   "metadata": {},
   "source": [
    "##### Distribucao normal"
   ]
  },
  {
   "cell_type": "code",
   "execution_count": 57,
   "metadata": {},
   "outputs": [
    {
     "data": {
      "text/plain": [
       "array([-0.59212641,  1.88113822, -0.8227176 ,  0.47159117,  0.35489576,\n",
       "        0.85495514])"
      ]
     },
     "execution_count": 57,
     "metadata": {},
     "output_type": "execute_result"
    }
   ],
   "source": [
    "# numero aleatorio com distribuicao normal (medio=0, desvio_padrao = 1)\n",
    "# intervalo [-1,1]\n",
    "np.random.randn(6)"
   ]
  },
  {
   "cell_type": "code",
   "execution_count": 58,
   "metadata": {},
   "outputs": [
    {
     "data": {
      "text/plain": [
       "5.621976461142936"
      ]
     },
     "execution_count": 58,
     "metadata": {},
     "output_type": "execute_result"
    }
   ],
   "source": [
    "# media de 6\n",
    "np.random.normal(6)"
   ]
  },
  {
   "cell_type": "code",
   "execution_count": 59,
   "metadata": {},
   "outputs": [
    {
     "data": {
      "text/plain": [
       "8.719038683080518"
      ]
     },
     "execution_count": 59,
     "metadata": {},
     "output_type": "execute_result"
    }
   ],
   "source": [
    "# media de 6, desvio_padrao = 5\n",
    "np.random.normal(6, 5)"
   ]
  },
  {
   "cell_type": "code",
   "execution_count": 60,
   "metadata": {},
   "outputs": [
    {
     "data": {
      "text/plain": [
       "array([ 1.48243817e+01,  3.44351310e+00,  3.30970467e+00,  3.00861761e+00,\n",
       "        5.40801023e+00,  3.75146061e+00,  1.01877063e+01,  1.02291459e+01,\n",
       "        1.17180330e+01,  1.10766374e+01,  2.88388196e+00,  1.30909261e+01,\n",
       "       -4.18484960e+00,  3.50205145e+00,  3.36071286e+00,  2.34366543e+00,\n",
       "        8.62541531e+00,  1.15004171e+01,  1.05151513e+01,  1.62648005e+00,\n",
       "       -5.72146774e+00,  9.24408650e+00,  1.05921714e+01,  2.33801162e+01,\n",
       "        4.49449462e-01,  6.67341892e+00,  2.93399239e+00,  5.44670405e+00,\n",
       "        9.18385799e+00,  2.45339507e+00,  4.29825091e+00,  5.50252014e+00,\n",
       "        1.44135607e+01,  7.17535755e+00,  7.95827491e+00,  1.09159277e+01,\n",
       "        1.04892721e+01,  1.23029893e+01,  1.19926044e+01,  9.81838971e+00,\n",
       "        1.12154319e+01,  9.56424262e+00,  9.23397609e+00,  1.01516074e+01,\n",
       "        1.28203579e+01,  4.37185579e+00,  4.58693401e+00,  1.22624825e+01,\n",
       "        2.00428031e+00, -2.35147167e-01,  3.28067549e+00,  2.10274598e+00,\n",
       "        2.63083539e+00,  5.76251244e+00,  5.81877577e+00, -2.06665776e+00,\n",
       "        2.24808342e+01,  1.40787359e+01,  7.26053401e+00,  1.06535852e+01,\n",
       "        1.33123214e+01,  4.47057868e+00,  1.00946737e+01,  1.70313472e+01,\n",
       "        1.57656678e+01,  9.78164710e+00,  2.08628859e-02,  1.01188127e+01,\n",
       "        1.16884986e+01,  5.35562602e+00,  9.66751100e+00,  6.24673055e+00,\n",
       "       -6.48778311e+00, -7.29372199e+00,  1.12477269e+01,  9.39831380e+00,\n",
       "        1.30653364e+01,  8.21342585e+00,  7.23394595e+00,  9.59138389e+00,\n",
       "        9.35948133e+00,  9.00297815e+00,  1.32693462e+01,  6.74838513e+00,\n",
       "        5.95778122e-01,  1.65074108e+00,  1.07716119e+01,  9.73795119e+00,\n",
       "        1.06235099e+01,  4.21090924e+00,  4.36209073e+00,  1.37825337e+01,\n",
       "       -5.30679474e+00,  5.91853538e+00,  1.63586683e+01,  2.62983683e-02,\n",
       "        2.28397821e+00,  5.20934794e+00,  1.14015888e+01,  1.27434342e+01])"
      ]
     },
     "execution_count": 60,
     "metadata": {},
     "output_type": "execute_result"
    }
   ],
   "source": [
    "# np.random.normal(meia, desv_padr, quantidade_de_numero)\n",
    "np.random.normal(6,5,100)"
   ]
  },
  {
   "cell_type": "markdown",
   "metadata": {},
   "source": [
    "### Opracoes e Calculos\n",
    "__Operacoes:__\n",
    "- min, max, media, soma, etc\n"
   ]
  },
  {
   "cell_type": "code",
   "execution_count": 61,
   "metadata": {},
   "outputs": [
    {
     "data": {
      "text/plain": [
       "array([5500, 5500, 5500, 5500, 5500, 5500, 5500, 5500, 5500, 5500, 5500,\n",
       "       5500, 5500, 5500, 5500, 5500, 5500, 5500, 5500, 5500,   21,   22,\n",
       "         23,   24,   25,   26,   27,   28,   29,   30,   31,   32,   33,\n",
       "         34,   35,   36,   37,   38,   39,   40,   41,   42,   43,   44,\n",
       "         45,   46,   47,   48,   49])"
      ]
     },
     "execution_count": 61,
     "metadata": {},
     "output_type": "execute_result"
    }
   ],
   "source": [
    "matriz"
   ]
  },
  {
   "cell_type": "code",
   "execution_count": 62,
   "metadata": {},
   "outputs": [
    {
     "data": {
      "text/plain": [
       "5500"
      ]
     },
     "execution_count": 62,
     "metadata": {},
     "output_type": "execute_result"
    }
   ],
   "source": [
    "matriz.max()"
   ]
  },
  {
   "cell_type": "code",
   "execution_count": 63,
   "metadata": {},
   "outputs": [
    {
     "data": {
      "text/plain": [
       "2265.612244897959"
      ]
     },
     "execution_count": 63,
     "metadata": {},
     "output_type": "execute_result"
    }
   ],
   "source": [
    "matriz.mean()"
   ]
  },
  {
   "cell_type": "code",
   "execution_count": 64,
   "metadata": {},
   "outputs": [
    {
     "data": {
      "text/plain": [
       "5479"
      ]
     },
     "execution_count": 64,
     "metadata": {},
     "output_type": "execute_result"
    }
   ],
   "source": [
    "matriz.max( ) - matriz.min()"
   ]
  },
  {
   "cell_type": "markdown",
   "metadata": {},
   "source": [
    "__Calculos:__\n",
    "- Raiz quadrada\n",
    "- cos, sen, tan\n",
    "- log, exp, polinomial, etc"
   ]
  },
  {
   "cell_type": "code",
   "execution_count": 65,
   "metadata": {},
   "outputs": [
    {
     "data": {
      "text/plain": [
       "array([30, 31, 32, 33, 34, 35, 36, 37, 38, 39, 40, 41, 42, 43, 44, 45, 46,\n",
       "       47, 48, 49, 50, 51, 52, 53, 54, 55, 56, 57, 58, 59])"
      ]
     },
     "execution_count": 65,
     "metadata": {},
     "output_type": "execute_result"
    }
   ],
   "source": [
    "matriz = np.arange(30, 60)\n",
    "matriz"
   ]
  },
  {
   "cell_type": "code",
   "execution_count": 66,
   "metadata": {},
   "outputs": [
    {
     "data": {
      "text/plain": [
       "array([-970, -969, -968, -967, -966, -965, -964, -963, -962, -961, -960,\n",
       "       -959, -958, -957, -956, -955, -954, -953, -952, -951, -950, -949,\n",
       "       -948, -947, -946, -945, -944, -943, -942, -941])"
      ]
     },
     "execution_count": 66,
     "metadata": {},
     "output_type": "execute_result"
    }
   ],
   "source": [
    "matriz - 1000"
   ]
  },
  {
   "cell_type": "code",
   "execution_count": 67,
   "metadata": {},
   "outputs": [
    {
     "data": {
      "text/plain": [
       "array([1030, 1031, 1032, 1033, 1034, 1035, 1036, 1037, 1038, 1039, 1040,\n",
       "       1041, 1042, 1043, 1044, 1045, 1046, 1047, 1048, 1049, 1050, 1051,\n",
       "       1052, 1053, 1054, 1055, 1056, 1057, 1058, 1059])"
      ]
     },
     "execution_count": 67,
     "metadata": {},
     "output_type": "execute_result"
    }
   ],
   "source": [
    "matriz + 1000"
   ]
  },
  {
   "cell_type": "code",
   "execution_count": 68,
   "metadata": {},
   "outputs": [
    {
     "data": {
      "text/plain": [
       "array([0.50847458, 0.52542373, 0.54237288, 0.55932203, 0.57627119,\n",
       "       0.59322034, 0.61016949, 0.62711864, 0.6440678 , 0.66101695,\n",
       "       0.6779661 , 0.69491525, 0.71186441, 0.72881356, 0.74576271,\n",
       "       0.76271186, 0.77966102, 0.79661017, 0.81355932, 0.83050847,\n",
       "       0.84745763, 0.86440678, 0.88135593, 0.89830508, 0.91525424,\n",
       "       0.93220339, 0.94915254, 0.96610169, 0.98305085, 1.        ])"
      ]
     },
     "execution_count": 68,
     "metadata": {},
     "output_type": "execute_result"
    }
   ],
   "source": [
    "matriz / 59"
   ]
  },
  {
   "cell_type": "markdown",
   "metadata": {},
   "source": [
    "###### operaoes avancadas"
   ]
  },
  {
   "cell_type": "code",
   "execution_count": 71,
   "metadata": {},
   "outputs": [
    {
     "data": {
      "text/plain": [
       "array([5.47722558, 5.56776436, 5.65685425, 5.74456265, 5.83095189,\n",
       "       5.91607978, 6.        , 6.08276253, 6.164414  , 6.244998  ,\n",
       "       6.32455532, 6.40312424, 6.4807407 , 6.55743852, 6.63324958,\n",
       "       6.70820393, 6.78232998, 6.8556546 , 6.92820323, 7.        ,\n",
       "       7.07106781, 7.14142843, 7.21110255, 7.28010989, 7.34846923,\n",
       "       7.41619849, 7.48331477, 7.54983444, 7.61577311, 7.68114575])"
      ]
     },
     "execution_count": 71,
     "metadata": {},
     "output_type": "execute_result"
    }
   ],
   "source": [
    "matriz**(1/2)"
   ]
  },
  {
   "cell_type": "code",
   "execution_count": 69,
   "metadata": {},
   "outputs": [
    {
     "data": {
      "text/plain": [
       "array([5.47722558, 5.56776436, 5.65685425, 5.74456265, 5.83095189,\n",
       "       5.91607978, 6.        , 6.08276253, 6.164414  , 6.244998  ,\n",
       "       6.32455532, 6.40312424, 6.4807407 , 6.55743852, 6.63324958,\n",
       "       6.70820393, 6.78232998, 6.8556546 , 6.92820323, 7.        ,\n",
       "       7.07106781, 7.14142843, 7.21110255, 7.28010989, 7.34846923,\n",
       "       7.41619849, 7.48331477, 7.54983444, 7.61577311, 7.68114575])"
      ]
     },
     "execution_count": 69,
     "metadata": {},
     "output_type": "execute_result"
    }
   ],
   "source": [
    "np.sqrt(matriz)"
   ]
  },
  {
   "cell_type": "code",
   "execution_count": 70,
   "metadata": {},
   "outputs": [
    {
     "data": {
      "text/plain": [
       "array([3.40119738, 3.4339872 , 3.4657359 , 3.49650756, 3.52636052,\n",
       "       3.55534806, 3.58351894, 3.61091791, 3.63758616, 3.66356165,\n",
       "       3.68887945, 3.71357207, 3.73766962, 3.76120012, 3.78418963,\n",
       "       3.80666249, 3.8286414 , 3.8501476 , 3.87120101, 3.8918203 ,\n",
       "       3.91202301, 3.93182563, 3.95124372, 3.97029191, 3.98898405,\n",
       "       4.00733319, 4.02535169, 4.04305127, 4.06044301, 4.07753744])"
      ]
     },
     "execution_count": 70,
     "metadata": {},
     "output_type": "execute_result"
    }
   ],
   "source": [
    "np.log(matriz)"
   ]
  },
  {
   "cell_type": "markdown",
   "metadata": {},
   "source": [
    "##### Series Temporais\n",
    "\n",
    "\n",
    "-  Referencia para todos os codigos formais associados as Data e Series Temporais\n",
    "\n",
    "- [Codigos de dados temporais](https://www.w3schools.com/python/python_datetime.asp)"
   ]
  },
  {
   "cell_type": "code",
   "execution_count": 75,
   "metadata": {},
   "outputs": [
    {
     "data": {
      "text/plain": [
       "(394488,)"
      ]
     },
     "execution_count": 75,
     "metadata": {},
     "output_type": "execute_result"
    }
   ],
   "source": [
    "# S - Segundos (00-59)\n",
    "# M - Minutos (00-60)\n",
    "# d - Dias (01-31)\n",
    "# w - Semanas (1-56)\n",
    "# m - Mes (01-12);        B - mes (Janeiro-Dezembro)\n",
    "# Y - Ano (2020);         y - ano (20)\n",
    "\n",
    "# Data independencia de STP\n",
    "np.arange('1975-07-12', '2020-07-12', dtype = 'datetime64[h]').shape"
   ]
  },
  {
   "cell_type": "markdown",
   "metadata": {},
   "source": [
    "##### NumPy e mais eficiene que que Loop de Python, vejamos"
   ]
  },
  {
   "cell_type": "code",
   "execution_count": 76,
   "metadata": {},
   "outputs": [],
   "source": [
    "from datetime import datetime as dt"
   ]
  },
  {
   "cell_type": "code",
   "execution_count": 77,
   "metadata": {},
   "outputs": [
    {
     "data": {
      "text/plain": [
       "datetime.time(7, 3, 51, 170729)"
      ]
     },
     "execution_count": 77,
     "metadata": {},
     "output_type": "execute_result"
    }
   ],
   "source": [
    "dt.now().time()"
   ]
  },
  {
   "cell_type": "code",
   "execution_count": 78,
   "metadata": {},
   "outputs": [],
   "source": [
    "# 1 ate cem mil\n",
    "matriz  = np.arange(1,100000)"
   ]
  },
  {
   "cell_type": "code",
   "execution_count": 79,
   "metadata": {},
   "outputs": [
    {
     "name": "stdout",
     "output_type": "stream",
     "text": [
      "704982704\n"
     ]
    },
    {
     "name": "stderr",
     "output_type": "stream",
     "text": [
      "C:\\Users\\lmanu\\Anaconda3\\lib\\site-packages\\ipykernel_launcher.py:5: RuntimeWarning: overflow encountered in long_scalars\n",
      "  \"\"\"\n"
     ]
    },
    {
     "data": {
      "text/plain": [
       "datetime.timedelta(microseconds=81781)"
      ]
     },
     "execution_count": 79,
     "metadata": {},
     "output_type": "execute_result"
    }
   ],
   "source": [
    "t_inicial = dt.now()\n",
    "\n",
    "total = 0\n",
    "for i in matriz:\n",
    "    total += i\n",
    "\n",
    "print(total)\n",
    "dt.now() - t_inicial"
   ]
  },
  {
   "cell_type": "code",
   "execution_count": 80,
   "metadata": {},
   "outputs": [
    {
     "name": "stdout",
     "output_type": "stream",
     "text": [
      "704982704\n"
     ]
    },
    {
     "name": "stderr",
     "output_type": "stream",
     "text": [
      "C:\\Users\\lmanu\\Anaconda3\\lib\\site-packages\\ipykernel_launcher.py:3: RuntimeWarning: overflow encountered in long_scalars\n",
      "  This is separate from the ipykernel package so we can avoid doing imports until\n"
     ]
    },
    {
     "data": {
      "text/plain": [
       "datetime.timedelta(microseconds=56859)"
      ]
     },
     "execution_count": 80,
     "metadata": {},
     "output_type": "execute_result"
    }
   ],
   "source": [
    "t_inicial = dt.now()\n",
    "\n",
    "print(sum([i for i in matriz]))\n",
    "\n",
    "dt.now() - t_inicial"
   ]
  },
  {
   "cell_type": "code",
   "execution_count": 83,
   "metadata": {},
   "outputs": [
    {
     "name": "stdout",
     "output_type": "stream",
     "text": [
      "704982704\n"
     ]
    },
    {
     "data": {
      "text/plain": [
       "datetime.timedelta(microseconds=998)"
      ]
     },
     "execution_count": 83,
     "metadata": {},
     "output_type": "execute_result"
    }
   ],
   "source": [
    "t_inicial = dt.now()\n",
    "\n",
    "print(np.sum(matriz))\n",
    "\n",
    "dt.now() - t_inicial"
   ]
  },
  {
   "cell_type": "code",
   "execution_count": null,
   "metadata": {},
   "outputs": [],
   "source": []
  }
 ],
 "metadata": {
  "kernelspec": {
   "display_name": "Python 3",
   "language": "python",
   "name": "python3"
  },
  "language_info": {
   "codemirror_mode": {
    "name": "ipython",
    "version": 3
   },
   "file_extension": ".py",
   "mimetype": "text/x-python",
   "name": "python",
   "nbconvert_exporter": "python",
   "pygments_lexer": "ipython3",
   "version": "3.7.1"
  }
 },
 "nbformat": 4,
 "nbformat_minor": 4
}
